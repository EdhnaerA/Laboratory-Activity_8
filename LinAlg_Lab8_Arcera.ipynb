{
  "nbformat": 4,
  "nbformat_minor": 0,
  "metadata": {
    "colab": {
      "name": "LinAlg_Lab8_Arcera.ipynb",
      "provenance": [],
      "collapsed_sections": [],
      "authorship_tag": "ABX9TyPF2rxOjll46R0qnVzl05rh",
      "include_colab_link": true
    },
    "kernelspec": {
      "name": "python3",
      "display_name": "Python 3"
    },
    "language_info": {
      "name": "python"
    }
  },
  "cells": [
    {
      "cell_type": "markdown",
      "metadata": {
        "id": "view-in-github",
        "colab_type": "text"
      },
      "source": [
        "<a href=\"https://colab.research.google.com/github/EdhnaerA/Laboratory-Activity_8/blob/main/LinAlg_Lab8_Arcera.ipynb\" target=\"_parent\"><img src=\"https://colab.research.google.com/assets/colab-badge.svg\" alt=\"Open In Colab\"/></a>"
      ]
    },
    {
      "cell_type": "markdown",
      "metadata": {
        "id": "xxri4bYjByap"
      },
      "source": [
        "# **Arcera, Edhnaer**\n",
        "## Laboratory 8 : System of Linear Equations"
      ]
    },
    {
      "cell_type": "markdown",
      "metadata": {
        "id": "dNt7OON8Cw1D"
      },
      "source": [
        "### **Exercise**\n",
        "\n",
        "1. Try to find your own example of a system of linear equations (minimum of 2 equations) and solve them using the inverse equation. Explain the details of your example.\n",
        "2. Using your example in (1) solve it using `np.linalg.solve()`. Explain the function and its difference using the inverse equation.\n",
        "\n",
        "\n",
        "$Let : \n",
        "t = \\text{Toblerone}, h = \\text{Hersheys}, k = \\text{Kisses} \\\\ \\\\ $"
      ]
    },
    {
      "cell_type": "markdown",
      "metadata": {
        "id": "4yesRdxsDhSJ"
      },
      "source": [
        "### *Exercise 1*"
      ]
    },
    {
      "cell_type": "code",
      "metadata": {
        "id": "o0_eB2-rBevZ"
      },
      "source": [
        "import numpy as np\n",
        "import matplotlib.pyplot as plt\n",
        "%matplotlib inline"
      ],
      "execution_count": 65,
      "outputs": []
    },
    {
      "cell_type": "markdown",
      "metadata": {
        "id": "YUlk34BWNZjY"
      },
      "source": [
        "$$\\begin{bmatrix}40&20&10\\\\35&50&20\\\\50&40&30\\end{bmatrix}\\cdot\\begin{bmatrix}t\\\\h\\\\k\\end{bmatrix} = \\begin{bmatrix}5,380\\\\7,475\\\\9,110\\end{bmatrix}$$\n",
        "So following our formula in solving linear equation $X r = Y$ we can solve for $t, h$ and $k$. "
      ]
    },
    {
      "cell_type": "markdown",
      "metadata": {
        "id": "fFdmall1cdKC"
      },
      "source": [
        "\n",
        "$Let : \\\\ \n",
        "t = \\text{toblerone}, h = \\text{hersheys}, k = \\text{kisses} \\\\ \\\\ $"
      ]
    },
    {
      "cell_type": "code",
      "metadata": {
        "colab": {
          "base_uri": "https://localhost:8080/"
        },
        "id": "A_UzBhXHUpo1",
        "outputId": "fbf39c59-1cf2-4641-eaf1-0c49c7fd22fd"
      },
      "source": [
        "chocolates = np.array([\n",
        "    [40, 20, 10],\n",
        "    [35, 50, 20],\n",
        "    [50, 40, 30]\n",
        "])\n",
        "cost = np.array([\n",
        "    [5380],\n",
        "    [7475],\n",
        "    [9110]\n",
        "])\n",
        "pricesE = np.linalg.inv(chocolates) @ cost\n",
        "pricesA = np.linalg.solve(chocolates,price)\n",
        "###########################################################################\n",
        "\n",
        "print(\"\\n***********************************************************\")\n",
        "print('\\            These are the prices for each chocolates     /')\n",
        "print(\"\\n***********************************************************\")\n",
        "print(\"Answer using linalg.inv\")\n",
        "print('The price of one toblerone is: PHP {:.2f}'.format(float(prices[0])))\n",
        "print('The price of one hersheys is: PHP {:.2f}'.format(float(prices[1])))\n",
        "print('The price of one pack of kisses is: PHP {:.2f}'.format(float(prices[2])))\n",
        "\n",
        "print(\"************************************************************ \")\n",
        "\n",
        "print(\"Answer using linalg.solve\")\n",
        "print('The price of one toblerone is: PHP {:.2f}'.format(float(prices[0])))\n",
        "print('The price of one hersheys is: PHP {:.2f}'.format(float(prices[1])))\n",
        "print('The price of one pack of kisses is: PHP {:.2f}'.format(float(prices[2])))\n",
        "\n"
      ],
      "execution_count": 85,
      "outputs": [
        {
          "output_type": "stream",
          "text": [
            "\n",
            "***********************************************************\n",
            "\\            These are the prices for each chocolates     /\n",
            "\n",
            "***********************************************************\n",
            "Answer using linalg.inv\n",
            "The price of one toblerone is: PHP 85.00\n",
            "The price of one hersheys is: PHP 54.00\n",
            "The price of one pack of kisses is: PHP 90.00\n",
            "************************************************************ \n",
            "Answer using linalg.solve\n",
            "The price of one toblerone is: PHP 85.00\n",
            "The price of one hersheys is: PHP 54.00\n",
            "The price of one pack of kisses is: PHP 90.00\n"
          ],
          "name": "stdout"
        }
      ]
    }
  ]
}